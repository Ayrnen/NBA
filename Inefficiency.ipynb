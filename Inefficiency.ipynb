{
 "cells": [
  {
   "cell_type": "code",
   "execution_count": 1,
   "id": "c59975be-0915-4be4-b9a6-357a46b78576",
   "metadata": {},
   "outputs": [],
   "source": [
    "import pandas as pd"
   ]
  },
  {
   "cell_type": "code",
   "execution_count": 2,
   "id": "8352d679-9b8a-41c1-8e93-f3f3826a99c7",
   "metadata": {},
   "outputs": [
    {
     "name": "stdout",
     "output_type": "stream",
     "text": [
      "         Atlanta Hawks\n",
      "0       Boston Celtics\n",
      "1        Brooklyn Nets\n",
      "2    Charlotte Bobcats\n",
      "3        Chicago Bulls\n",
      "4  Cleveland Cavaliers\n"
     ]
    }
   ],
   "source": [
    "df = pd.read_csv('modern_teams.csv')\n",
    "print(df.head())"
   ]
  },
  {
   "cell_type": "code",
   "execution_count": 3,
   "id": "22d78a70-aeb4-4a3e-b9ea-e0244e5134c7",
   "metadata": {},
   "outputs": [],
   "source": [
    "cities = ['Atlanta Hawks'] + df.squeeze().tolist()\n",
    "\n",
    "cities = [x.split(' ')[0] for x in cities if 'New' not in x]\n",
    "\n",
    "cities.remove('LA')\n",
    "\n",
    "for i in range(len(cities)):\n",
    "    if cities[i] == 'LA':\n",
    "        cities[i] = 'Los Angeles'\n",
    "    elif cities[i] == 'San':\n",
    "        cities[i] = 'San Antonio'\n",
    "    elif cities[i] == 'Golden':\n",
    "        cities[i] = 'San Francisco'\n",
    "        \n",
    "        \n",
    "cities += ['New Orleans','New York']"
   ]
  },
  {
   "cell_type": "markdown",
   "id": "88ac1087-5234-43e0-8cc4-64ef717475bd",
   "metadata": {},
   "source": [
    "### Get city lat and long"
   ]
  },
  {
   "cell_type": "code",
   "execution_count": 4,
   "id": "07e253d5-85cb-46f1-92e6-384a7afaea03",
   "metadata": {},
   "outputs": [],
   "source": [
    "# Get city Lat and Long\n",
    "from geopy.geocoders import Nominatim\n",
    "\n",
    "# Initialize Nominatim API\n",
    "geolocator = Nominatim(user_agent=\"MyApp\")\n",
    "\n",
    "lat = []\n",
    "long = []\n",
    "for city in cities:\n",
    "    location = geolocator.geocode(city)\n",
    "    lat.append(location.latitude)\n",
    "    long.append(location.longitude)"
   ]
  },
  {
   "cell_type": "markdown",
   "id": "5da8d28d-d104-4d01-bb19-8c366cb216e5",
   "metadata": {
    "tags": []
   },
   "source": [
    "### Manually input city's current conference"
   ]
  },
  {
   "cell_type": "code",
   "execution_count": 5,
   "id": "504818d3-47e4-41e2-8b29-d1677509102c",
   "metadata": {},
   "outputs": [],
   "source": [
    "cons = [\n",
    "    1, 1, 1, 1, 1, 1,\n",
    "    0, 0,\n",
    "    1,\n",
    "    0, 0,\n",
    "    1,\n",
    "    0, 0,\n",
    "    1, 1,\n",
    "    0, 0,\n",
    "    1, 1,\n",
    "    0, 0, 0, 0,\n",
    "    1,\n",
    "    0,\n",
    "    1,\n",
    "    0,\n",
    "    1\n",
    "]"
   ]
  },
  {
   "cell_type": "markdown",
   "id": "74ca1e46-faf1-47a1-b6b4-d764bfd079d9",
   "metadata": {},
   "source": [
    "### Combine into DataFrame"
   ]
  },
  {
   "cell_type": "code",
   "execution_count": 6,
   "id": "cd4e623c-0ab5-44bd-8068-6b42f1ea1bf3",
   "metadata": {},
   "outputs": [],
   "source": [
    "df = pd.DataFrame()\n",
    "df['City'] = cities\n",
    "df['Latitude'] = lat\n",
    "df['Longitude'] = long\n",
    "df['Conference'] = cons"
   ]
  },
  {
   "cell_type": "code",
   "execution_count": 7,
   "id": "d672337a-a464-40c3-ba73-7200fd6230e8",
   "metadata": {},
   "outputs": [],
   "source": [
    "df.to_csv('TeamLocations.csv')"
   ]
  }
 ],
 "metadata": {
  "kernelspec": {
   "display_name": "Python 3",
   "language": "python",
   "name": "python3"
  },
  "language_info": {
   "codemirror_mode": {
    "name": "ipython",
    "version": 3
   },
   "file_extension": ".py",
   "mimetype": "text/x-python",
   "name": "python",
   "nbconvert_exporter": "python",
   "pygments_lexer": "ipython3",
   "version": "3.9.4"
  }
 },
 "nbformat": 4,
 "nbformat_minor": 5
}
