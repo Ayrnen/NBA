{
 "cells": [
  {
   "cell_type": "code",
   "execution_count": 1,
   "id": "eccb9ab2-4c7b-4400-b781-7918fa2cef75",
   "metadata": {},
   "outputs": [],
   "source": [
    "import pandas as pd\n",
    "import numpy as np"
   ]
  },
  {
   "cell_type": "code",
   "execution_count": 2,
   "id": "c6c52988-ab93-4a02-a602-f7eb27bde4a4",
   "metadata": {},
   "outputs": [],
   "source": [
    "def checkSomething(originalColumn, possibleDuplicates):\n",
    "    for uniqueValue in originalColumn.unique():\n",
    "        if len(possibleDuplicates.loc[originalColumn == uniqueValue].unique()) > 1:\n",
    "            print(uniqueValue, ':', possibleDuplicates.loc[originalColumn == uniqueValue].unique())"
   ]
  },
  {
   "cell_type": "code",
   "execution_count": 3,
   "id": "72889f1e-a664-4bd5-9da7-f5f93eafda64",
   "metadata": {},
   "outputs": [],
   "source": [
    "df = pd.read_csv('line_score.csv')"
   ]
  },
  {
   "cell_type": "code",
   "execution_count": 4,
   "id": "ddd04f67-b60e-4360-b11c-c27e2957302a",
   "metadata": {},
   "outputs": [
    {
     "data": {
      "text/plain": [
       "Index(['game_date_est', 'game_sequence', 'game_id', 'team_id_home',\n",
       "       'team_abbreviation_home', 'team_city_name_home', 'team_nickname_home',\n",
       "       'team_wins_losses_home', 'pts_qtr1_home', 'pts_qtr2_home',\n",
       "       'pts_qtr3_home', 'pts_qtr4_home', 'pts_ot1_home', 'pts_ot2_home',\n",
       "       'pts_ot3_home', 'pts_ot4_home', 'pts_ot5_home', 'pts_ot6_home',\n",
       "       'pts_ot7_home', 'pts_ot8_home', 'pts_ot9_home', 'pts_ot10_home',\n",
       "       'pts_home', 'team_id_away', 'team_abbreviation_away',\n",
       "       'team_city_name_away', 'team_nickname_away', 'team_wins_losses_away',\n",
       "       'pts_qtr1_away', 'pts_qtr2_away', 'pts_qtr3_away', 'pts_qtr4_away',\n",
       "       'pts_ot1_away', 'pts_ot2_away', 'pts_ot3_away', 'pts_ot4_away',\n",
       "       'pts_ot5_away', 'pts_ot6_away', 'pts_ot7_away', 'pts_ot8_away',\n",
       "       'pts_ot9_away', 'pts_ot10_away', 'pts_away'],\n",
       "      dtype='object')"
      ]
     },
     "execution_count": 4,
     "metadata": {},
     "output_type": "execute_result"
    }
   ],
   "source": [
    "df.columns"
   ]
  },
  {
   "cell_type": "code",
   "execution_count": 5,
   "id": "2e4f1a47-852d-40dc-98a4-ab0b9c55be4b",
   "metadata": {},
   "outputs": [
    {
     "data": {
      "text/html": [
       "<div>\n",
       "<style scoped>\n",
       "    .dataframe tbody tr th:only-of-type {\n",
       "        vertical-align: middle;\n",
       "    }\n",
       "\n",
       "    .dataframe tbody tr th {\n",
       "        vertical-align: top;\n",
       "    }\n",
       "\n",
       "    .dataframe thead th {\n",
       "        text-align: right;\n",
       "    }\n",
       "</style>\n",
       "<table border=\"1\" class=\"dataframe\">\n",
       "  <thead>\n",
       "    <tr style=\"text-align: right;\">\n",
       "      <th></th>\n",
       "      <th>game_date_est</th>\n",
       "      <th>game_sequence</th>\n",
       "      <th>game_id</th>\n",
       "      <th>team_id_home</th>\n",
       "      <th>team_abbreviation_home</th>\n",
       "      <th>team_city_name_home</th>\n",
       "      <th>team_nickname_home</th>\n",
       "      <th>team_wins_losses_home</th>\n",
       "      <th>pts_qtr1_home</th>\n",
       "      <th>pts_qtr2_home</th>\n",
       "      <th>...</th>\n",
       "      <th>pts_ot2_away</th>\n",
       "      <th>pts_ot3_away</th>\n",
       "      <th>pts_ot4_away</th>\n",
       "      <th>pts_ot5_away</th>\n",
       "      <th>pts_ot6_away</th>\n",
       "      <th>pts_ot7_away</th>\n",
       "      <th>pts_ot8_away</th>\n",
       "      <th>pts_ot9_away</th>\n",
       "      <th>pts_ot10_away</th>\n",
       "      <th>pts_away</th>\n",
       "    </tr>\n",
       "  </thead>\n",
       "  <tbody>\n",
       "    <tr>\n",
       "      <th>0</th>\n",
       "      <td>1946-11-01 00:00:00</td>\n",
       "      <td>NaN</td>\n",
       "      <td>24600001</td>\n",
       "      <td>1610610035</td>\n",
       "      <td>HUS</td>\n",
       "      <td>Toronto</td>\n",
       "      <td>Huskies</td>\n",
       "      <td>-</td>\n",
       "      <td>NaN</td>\n",
       "      <td>NaN</td>\n",
       "      <td>...</td>\n",
       "      <td>NaN</td>\n",
       "      <td>NaN</td>\n",
       "      <td>NaN</td>\n",
       "      <td>NaN</td>\n",
       "      <td>NaN</td>\n",
       "      <td>NaN</td>\n",
       "      <td>NaN</td>\n",
       "      <td>NaN</td>\n",
       "      <td>NaN</td>\n",
       "      <td>68</td>\n",
       "    </tr>\n",
       "    <tr>\n",
       "      <th>1</th>\n",
       "      <td>1946-11-02 00:00:00</td>\n",
       "      <td>NaN</td>\n",
       "      <td>24600003</td>\n",
       "      <td>1610610034</td>\n",
       "      <td>BOM</td>\n",
       "      <td>St. Louis</td>\n",
       "      <td>Bombers</td>\n",
       "      <td>-</td>\n",
       "      <td>16.0</td>\n",
       "      <td>16.0</td>\n",
       "      <td>...</td>\n",
       "      <td>NaN</td>\n",
       "      <td>NaN</td>\n",
       "      <td>NaN</td>\n",
       "      <td>NaN</td>\n",
       "      <td>NaN</td>\n",
       "      <td>NaN</td>\n",
       "      <td>NaN</td>\n",
       "      <td>NaN</td>\n",
       "      <td>NaN</td>\n",
       "      <td>51</td>\n",
       "    </tr>\n",
       "    <tr>\n",
       "      <th>2</th>\n",
       "      <td>1946-11-02 00:00:00</td>\n",
       "      <td>NaN</td>\n",
       "      <td>24600002</td>\n",
       "      <td>1610612738</td>\n",
       "      <td>BOS</td>\n",
       "      <td>Boston</td>\n",
       "      <td>Celtics</td>\n",
       "      <td>-</td>\n",
       "      <td>10.0</td>\n",
       "      <td>16.0</td>\n",
       "      <td>...</td>\n",
       "      <td>NaN</td>\n",
       "      <td>NaN</td>\n",
       "      <td>NaN</td>\n",
       "      <td>NaN</td>\n",
       "      <td>NaN</td>\n",
       "      <td>NaN</td>\n",
       "      <td>NaN</td>\n",
       "      <td>NaN</td>\n",
       "      <td>NaN</td>\n",
       "      <td>59</td>\n",
       "    </tr>\n",
       "    <tr>\n",
       "      <th>3</th>\n",
       "      <td>1946-11-02 00:00:00</td>\n",
       "      <td>NaN</td>\n",
       "      <td>24600004</td>\n",
       "      <td>1610610025</td>\n",
       "      <td>CHS</td>\n",
       "      <td>Chicago</td>\n",
       "      <td>Stags</td>\n",
       "      <td>-</td>\n",
       "      <td>NaN</td>\n",
       "      <td>NaN</td>\n",
       "      <td>...</td>\n",
       "      <td>NaN</td>\n",
       "      <td>NaN</td>\n",
       "      <td>NaN</td>\n",
       "      <td>NaN</td>\n",
       "      <td>NaN</td>\n",
       "      <td>NaN</td>\n",
       "      <td>NaN</td>\n",
       "      <td>NaN</td>\n",
       "      <td>NaN</td>\n",
       "      <td>47</td>\n",
       "    </tr>\n",
       "    <tr>\n",
       "      <th>4</th>\n",
       "      <td>1946-11-02 00:00:00</td>\n",
       "      <td>NaN</td>\n",
       "      <td>24600005</td>\n",
       "      <td>1610610036</td>\n",
       "      <td>WAS</td>\n",
       "      <td>Washington</td>\n",
       "      <td>Capitols</td>\n",
       "      <td>-</td>\n",
       "      <td>21.0</td>\n",
       "      <td>4.0</td>\n",
       "      <td>...</td>\n",
       "      <td>NaN</td>\n",
       "      <td>NaN</td>\n",
       "      <td>NaN</td>\n",
       "      <td>NaN</td>\n",
       "      <td>NaN</td>\n",
       "      <td>NaN</td>\n",
       "      <td>NaN</td>\n",
       "      <td>NaN</td>\n",
       "      <td>NaN</td>\n",
       "      <td>33</td>\n",
       "    </tr>\n",
       "  </tbody>\n",
       "</table>\n",
       "<p>5 rows × 43 columns</p>\n",
       "</div>"
      ],
      "text/plain": [
       "         game_date_est  game_sequence   game_id  team_id_home  \\\n",
       "0  1946-11-01 00:00:00            NaN  24600001    1610610035   \n",
       "1  1946-11-02 00:00:00            NaN  24600003    1610610034   \n",
       "2  1946-11-02 00:00:00            NaN  24600002    1610612738   \n",
       "3  1946-11-02 00:00:00            NaN  24600004    1610610025   \n",
       "4  1946-11-02 00:00:00            NaN  24600005    1610610036   \n",
       "\n",
       "  team_abbreviation_home team_city_name_home team_nickname_home  \\\n",
       "0                    HUS             Toronto            Huskies   \n",
       "1                    BOM           St. Louis            Bombers   \n",
       "2                    BOS              Boston            Celtics   \n",
       "3                    CHS             Chicago              Stags   \n",
       "4                    WAS          Washington           Capitols   \n",
       "\n",
       "  team_wins_losses_home  pts_qtr1_home  pts_qtr2_home  ...  pts_ot2_away  \\\n",
       "0                     -            NaN            NaN  ...           NaN   \n",
       "1                     -           16.0           16.0  ...           NaN   \n",
       "2                     -           10.0           16.0  ...           NaN   \n",
       "3                     -            NaN            NaN  ...           NaN   \n",
       "4                     -           21.0            4.0  ...           NaN   \n",
       "\n",
       "   pts_ot3_away  pts_ot4_away  pts_ot5_away  pts_ot6_away  pts_ot7_away  \\\n",
       "0           NaN           NaN           NaN           NaN           NaN   \n",
       "1           NaN           NaN           NaN           NaN           NaN   \n",
       "2           NaN           NaN           NaN           NaN           NaN   \n",
       "3           NaN           NaN           NaN           NaN           NaN   \n",
       "4           NaN           NaN           NaN           NaN           NaN   \n",
       "\n",
       "   pts_ot8_away  pts_ot9_away  pts_ot10_away  pts_away  \n",
       "0           NaN           NaN            NaN        68  \n",
       "1           NaN           NaN            NaN        51  \n",
       "2           NaN           NaN            NaN        59  \n",
       "3           NaN           NaN            NaN        47  \n",
       "4           NaN           NaN            NaN        33  \n",
       "\n",
       "[5 rows x 43 columns]"
      ]
     },
     "execution_count": 5,
     "metadata": {},
     "output_type": "execute_result"
    }
   ],
   "source": [
    "df.head()"
   ]
  },
  {
   "cell_type": "markdown",
   "id": "3222b580-dd86-4532-a73b-eaa2b6424cef",
   "metadata": {},
   "source": [
    "## Normalize Team Information by Abbreviation"
   ]
  },
  {
   "cell_type": "markdown",
   "id": "5aa9f0da-89e8-4508-8cd4-3f18f8b8ce03",
   "metadata": {},
   "source": [
    "### Eliminate Duplicate City Names"
   ]
  },
  {
   "cell_type": "code",
   "execution_count": 6,
   "id": "f1ba035d-3f93-4bac-9ab3-c5a9f8d8ae2e",
   "metadata": {},
   "outputs": [
    {
     "name": "stdout",
     "output_type": "stream",
     "text": [
      "KCK : ['Kansas City-Omaha' 'Kansas City']\n",
      "LAC : ['Los Angeles' 'LA']\n",
      "NOK : ['New Orleans' 'New Orleans/Oklahoma City']\n"
     ]
    }
   ],
   "source": [
    "checkSomething(df['team_abbreviation_home'], df['team_city_name_home']) "
   ]
  },
  {
   "cell_type": "code",
   "execution_count": 7,
   "id": "07ea650f-2074-4fad-ad96-8764dddc623b",
   "metadata": {},
   "outputs": [
    {
     "data": {
      "text/plain": [
       "array(['Hornets'], dtype=object)"
      ]
     },
     "execution_count": 7,
     "metadata": {},
     "output_type": "execute_result"
    }
   ],
   "source": [
    "df['team_nickname_home'].loc[df['team_abbreviation_home'] == 'NOK'].unique()"
   ]
  },
  {
   "cell_type": "code",
   "execution_count": 8,
   "id": "8354bfc2-e86e-4a5b-ad6f-386a1e82924d",
   "metadata": {
    "tags": []
   },
   "outputs": [],
   "source": [
    "df = df.replace(['Kansas City-Omaha', 'LA'], ['Kansas City' , 'Los Angeles'])\n",
    "\n",
    "df.loc[df['team_abbreviation_home'] == 'NOK', 'team_city_name_home'] = 'New Orleans/Oklahoma City'\n",
    "df.loc[df['team_abbreviation_away'] == 'NOK', 'team_city_name_away'] = 'New Orleans/Oklahoma City'"
   ]
  },
  {
   "cell_type": "code",
   "execution_count": 9,
   "id": "46c87384-f062-45e4-9906-26db4cc97a4d",
   "metadata": {},
   "outputs": [],
   "source": [
    "checkSomething(df['team_abbreviation_home'], df['team_city_name_home'])\n",
    "checkSomething(df['team_abbreviation_away'], df['team_city_name_away'])"
   ]
  },
  {
   "cell_type": "markdown",
   "id": "93eb4766-3b30-43a8-98dd-27739d26c6c7",
   "metadata": {},
   "source": [
    "### Eliminate Duplicate IDs"
   ]
  },
  {
   "cell_type": "code",
   "execution_count": 10,
   "id": "0d6c4ae7-4568-4db8-b439-fbf2f52caec3",
   "metadata": {},
   "outputs": [
    {
     "name": "stdout",
     "output_type": "stream",
     "text": [
      "WAS : [1610610036 1610612764]\n"
     ]
    }
   ],
   "source": [
    "checkSomething(df['team_abbreviation_home'], df['team_id_home'])"
   ]
  },
  {
   "cell_type": "code",
   "execution_count": 11,
   "id": "4fb06287-e307-4496-8fa4-b0c811b0f3f8",
   "metadata": {},
   "outputs": [
    {
     "name": "stdout",
     "output_type": "stream",
     "text": [
      "['WAS']\n",
      "['CHP' 'CHZ' 'BLT' 'CAP' 'WAS']\n"
     ]
    }
   ],
   "source": [
    "print(df['team_abbreviation_home'].loc[df['team_id_home'] == 1610610036].unique())\n",
    "print(df['team_abbreviation_home'].loc[df['team_id_home'] == 1610612764].unique())"
   ]
  },
  {
   "cell_type": "code",
   "execution_count": 12,
   "id": "cf62d271-1bfd-479e-8140-106e0a550243",
   "metadata": {},
   "outputs": [],
   "source": [
    "df.loc[df['team_abbreviation_home'] == 'WAS', 'team_id_home'] = 1610610036\n",
    "df.loc[df['team_abbreviation_away'] == 'WAS', 'team_id_away'] = 1610610036"
   ]
  },
  {
   "cell_type": "code",
   "execution_count": 13,
   "id": "0e58c44b-3316-4f6e-a89e-12af104c503f",
   "metadata": {},
   "outputs": [],
   "source": [
    "checkSomething(df['team_abbreviation_home'], df['team_id_home'])\n",
    "checkSomething(df['team_abbreviation_away'], df['team_id_away'])"
   ]
  },
  {
   "cell_type": "code",
   "execution_count": 14,
   "id": "fc5cbc72-af1a-4e1c-9a2c-f358b65c7870",
   "metadata": {},
   "outputs": [],
   "source": [
    "checkSomething(df['team_abbreviation_home'], df['team_city_name_home'])\n",
    "checkSomething(df['team_abbreviation_away'], df['team_city_name_away'])"
   ]
  },
  {
   "cell_type": "markdown",
   "id": "5e361be7-624b-4ee0-aaaa-d8b245ba5b2b",
   "metadata": {},
   "source": [
    "## Split Team Information with Abbreviation as the Primary Key"
   ]
  },
  {
   "cell_type": "code",
   "execution_count": 15,
   "id": "82fc3b1d-bc0c-4d17-bf2b-f44e5cc84b77",
   "metadata": {},
   "outputs": [
    {
     "data": {
      "text/html": [
       "<div>\n",
       "<style scoped>\n",
       "    .dataframe tbody tr th:only-of-type {\n",
       "        vertical-align: middle;\n",
       "    }\n",
       "\n",
       "    .dataframe tbody tr th {\n",
       "        vertical-align: top;\n",
       "    }\n",
       "\n",
       "    .dataframe thead th {\n",
       "        text-align: right;\n",
       "    }\n",
       "</style>\n",
       "<table border=\"1\" class=\"dataframe\">\n",
       "  <thead>\n",
       "    <tr style=\"text-align: right;\">\n",
       "      <th></th>\n",
       "      <th>Abbreviation</th>\n",
       "      <th>City Name</th>\n",
       "      <th>ID</th>\n",
       "    </tr>\n",
       "  </thead>\n",
       "  <tbody>\n",
       "    <tr>\n",
       "      <th>0</th>\n",
       "      <td>HUS</td>\n",
       "      <td>Toronto</td>\n",
       "      <td>1610610035</td>\n",
       "    </tr>\n",
       "    <tr>\n",
       "      <th>1</th>\n",
       "      <td>BOM</td>\n",
       "      <td>St. Louis</td>\n",
       "      <td>1610610034</td>\n",
       "    </tr>\n",
       "    <tr>\n",
       "      <th>2</th>\n",
       "      <td>BOS</td>\n",
       "      <td>Boston</td>\n",
       "      <td>1610612738</td>\n",
       "    </tr>\n",
       "    <tr>\n",
       "      <th>3</th>\n",
       "      <td>CHS</td>\n",
       "      <td>Chicago</td>\n",
       "      <td>1610610025</td>\n",
       "    </tr>\n",
       "    <tr>\n",
       "      <th>4</th>\n",
       "      <td>WAS</td>\n",
       "      <td>Washington</td>\n",
       "      <td>1610610036</td>\n",
       "    </tr>\n",
       "  </tbody>\n",
       "</table>\n",
       "</div>"
      ],
      "text/plain": [
       "  Abbreviation   City Name          ID\n",
       "0          HUS     Toronto  1610610035\n",
       "1          BOM   St. Louis  1610610034\n",
       "2          BOS      Boston  1610612738\n",
       "3          CHS     Chicago  1610610025\n",
       "4          WAS  Washington  1610610036"
      ]
     },
     "execution_count": 15,
     "metadata": {},
     "output_type": "execute_result"
    }
   ],
   "source": [
    "dfTeamInfo = df[['team_abbreviation_home', 'team_city_name_home', 'team_id_home']]\n",
    "dfTeamInfo = dfTeamInfo.rename(columns = {'team_abbreviation_home': 'Abbreviation', 'team_city_name_home': 'City Name', 'team_id_home': 'ID'})\n",
    "dfTeamInfo.head()"
   ]
  },
  {
   "cell_type": "code",
   "execution_count": 16,
   "id": "e74eb638-6f21-4c9a-9e1c-d53a188eb674",
   "metadata": {},
   "outputs": [
    {
     "data": {
      "text/html": [
       "<div>\n",
       "<style scoped>\n",
       "    .dataframe tbody tr th:only-of-type {\n",
       "        vertical-align: middle;\n",
       "    }\n",
       "\n",
       "    .dataframe tbody tr th {\n",
       "        vertical-align: top;\n",
       "    }\n",
       "\n",
       "    .dataframe thead th {\n",
       "        text-align: right;\n",
       "    }\n",
       "</style>\n",
       "<table border=\"1\" class=\"dataframe\">\n",
       "  <thead>\n",
       "    <tr style=\"text-align: right;\">\n",
       "      <th></th>\n",
       "      <th>Abbreviation</th>\n",
       "      <th>City Name</th>\n",
       "      <th>ID</th>\n",
       "    </tr>\n",
       "  </thead>\n",
       "  <tbody>\n",
       "    <tr>\n",
       "      <th>0</th>\n",
       "      <td>HUS</td>\n",
       "      <td>Toronto</td>\n",
       "      <td>1610610035</td>\n",
       "    </tr>\n",
       "    <tr>\n",
       "      <th>1</th>\n",
       "      <td>BOM</td>\n",
       "      <td>St. Louis</td>\n",
       "      <td>1610610034</td>\n",
       "    </tr>\n",
       "    <tr>\n",
       "      <th>2</th>\n",
       "      <td>BOS</td>\n",
       "      <td>Boston</td>\n",
       "      <td>1610612738</td>\n",
       "    </tr>\n",
       "    <tr>\n",
       "      <th>3</th>\n",
       "      <td>CHS</td>\n",
       "      <td>Chicago</td>\n",
       "      <td>1610610025</td>\n",
       "    </tr>\n",
       "    <tr>\n",
       "      <th>4</th>\n",
       "      <td>WAS</td>\n",
       "      <td>Washington</td>\n",
       "      <td>1610610036</td>\n",
       "    </tr>\n",
       "    <tr>\n",
       "      <th>...</th>\n",
       "      <td>...</td>\n",
       "      <td>...</td>\n",
       "      <td>...</td>\n",
       "    </tr>\n",
       "    <tr>\n",
       "      <th>70</th>\n",
       "      <td>NOK</td>\n",
       "      <td>New Orleans/Oklahoma City</td>\n",
       "      <td>1610612740</td>\n",
       "    </tr>\n",
       "    <tr>\n",
       "      <th>71</th>\n",
       "      <td>PHO</td>\n",
       "      <td>Phoenix</td>\n",
       "      <td>1610612756</td>\n",
       "    </tr>\n",
       "    <tr>\n",
       "      <th>72</th>\n",
       "      <td>OKC</td>\n",
       "      <td>Oklahoma City</td>\n",
       "      <td>1610612760</td>\n",
       "    </tr>\n",
       "    <tr>\n",
       "      <th>73</th>\n",
       "      <td>BKN</td>\n",
       "      <td>Brooklyn</td>\n",
       "      <td>1610612751</td>\n",
       "    </tr>\n",
       "    <tr>\n",
       "      <th>74</th>\n",
       "      <td>NOP</td>\n",
       "      <td>New Orleans</td>\n",
       "      <td>1610612740</td>\n",
       "    </tr>\n",
       "  </tbody>\n",
       "</table>\n",
       "<p>75 rows × 3 columns</p>\n",
       "</div>"
      ],
      "text/plain": [
       "   Abbreviation                  City Name          ID\n",
       "0           HUS                    Toronto  1610610035\n",
       "1           BOM                  St. Louis  1610610034\n",
       "2           BOS                     Boston  1610612738\n",
       "3           CHS                    Chicago  1610610025\n",
       "4           WAS                 Washington  1610610036\n",
       "..          ...                        ...         ...\n",
       "70          NOK  New Orleans/Oklahoma City  1610612740\n",
       "71          PHO                    Phoenix  1610612756\n",
       "72          OKC              Oklahoma City  1610612760\n",
       "73          BKN                   Brooklyn  1610612751\n",
       "74          NOP                New Orleans  1610612740\n",
       "\n",
       "[75 rows x 3 columns]"
      ]
     },
     "execution_count": 16,
     "metadata": {},
     "output_type": "execute_result"
    }
   ],
   "source": [
    "dfTeamInfo = dfTeamInfo.drop_duplicates(subset='Abbreviation', keep=\"first\").reset_index(drop = True)\n",
    "dfTeamInfo"
   ]
  }
 ],
 "metadata": {
  "kernelspec": {
   "display_name": "Python 3",
   "language": "python",
   "name": "python3"
  },
  "language_info": {
   "codemirror_mode": {
    "name": "ipython",
    "version": 3
   },
   "file_extension": ".py",
   "mimetype": "text/x-python",
   "name": "python",
   "nbconvert_exporter": "python",
   "pygments_lexer": "ipython3",
   "version": "3.9.4"
  }
 },
 "nbformat": 4,
 "nbformat_minor": 5
}
