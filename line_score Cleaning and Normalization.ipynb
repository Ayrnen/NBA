{
 "cells": [
  {
   "cell_type": "code",
   "execution_count": 1,
   "id": "eccb9ab2-4c7b-4400-b781-7918fa2cef75",
   "metadata": {},
   "outputs": [],
   "source": [
    "import pandas as pd\n",
    "import numpy as np"
   ]
  },
  {
   "cell_type": "code",
   "execution_count": 2,
   "id": "c6c52988-ab93-4a02-a602-f7eb27bde4a4",
   "metadata": {},
   "outputs": [],
   "source": [
    "def checkSomething(originalColumn, possibleDuplicates):\n",
    "    for uniqueValue in originalColumn.unique():\n",
    "        if len(possibleDuplicates.loc[originalColumn == uniqueValue].unique()) > 1:\n",
    "            print(uniqueValue, ':', possibleDuplicates.loc[originalColumn == uniqueValue].unique())"
   ]
  },
  {
   "cell_type": "code",
   "execution_count": 3,
   "id": "72889f1e-a664-4bd5-9da7-f5f93eafda64",
   "metadata": {},
   "outputs": [],
   "source": [
    "df = pd.read_csv('line_score.csv')"
   ]
  },
  {
   "cell_type": "code",
   "execution_count": 4,
   "id": "ddd04f67-b60e-4360-b11c-c27e2957302a",
   "metadata": {},
   "outputs": [
    {
     "data": {
      "text/plain": [
       "Index(['game_date_est', 'game_sequence', 'game_id', 'team_id_home',\n",
       "       'team_abbreviation_home', 'team_city_name_home', 'team_nickname_home',\n",
       "       'team_wins_losses_home', 'pts_qtr1_home', 'pts_qtr2_home',\n",
       "       'pts_qtr3_home', 'pts_qtr4_home', 'pts_ot1_home', 'pts_ot2_home',\n",
       "       'pts_ot3_home', 'pts_ot4_home', 'pts_ot5_home', 'pts_ot6_home',\n",
       "       'pts_ot7_home', 'pts_ot8_home', 'pts_ot9_home', 'pts_ot10_home',\n",
       "       'pts_home', 'team_id_away', 'team_abbreviation_away',\n",
       "       'team_city_name_away', 'team_nickname_away', 'team_wins_losses_away',\n",
       "       'pts_qtr1_away', 'pts_qtr2_away', 'pts_qtr3_away', 'pts_qtr4_away',\n",
       "       'pts_ot1_away', 'pts_ot2_away', 'pts_ot3_away', 'pts_ot4_away',\n",
       "       'pts_ot5_away', 'pts_ot6_away', 'pts_ot7_away', 'pts_ot8_away',\n",
       "       'pts_ot9_away', 'pts_ot10_away', 'pts_away'],\n",
       "      dtype='object')"
      ]
     },
     "execution_count": 4,
     "metadata": {},
     "output_type": "execute_result"
    }
   ],
   "source": [
    "df.columns"
   ]
  },
  {
   "cell_type": "code",
   "execution_count": 5,
   "id": "2e4f1a47-852d-40dc-98a4-ab0b9c55be4b",
   "metadata": {},
   "outputs": [
    {
     "data": {
      "text/html": [
       "<div>\n",
       "<style scoped>\n",
       "    .dataframe tbody tr th:only-of-type {\n",
       "        vertical-align: middle;\n",
       "    }\n",
       "\n",
       "    .dataframe tbody tr th {\n",
       "        vertical-align: top;\n",
       "    }\n",
       "\n",
       "    .dataframe thead th {\n",
       "        text-align: right;\n",
       "    }\n",
       "</style>\n",
       "<table border=\"1\" class=\"dataframe\">\n",
       "  <thead>\n",
       "    <tr style=\"text-align: right;\">\n",
       "      <th></th>\n",
       "      <th>game_date_est</th>\n",
       "      <th>game_sequence</th>\n",
       "      <th>game_id</th>\n",
       "      <th>team_id_home</th>\n",
       "      <th>team_abbreviation_home</th>\n",
       "      <th>team_city_name_home</th>\n",
       "      <th>team_nickname_home</th>\n",
       "      <th>team_wins_losses_home</th>\n",
       "      <th>pts_qtr1_home</th>\n",
       "      <th>pts_qtr2_home</th>\n",
       "      <th>...</th>\n",
       "      <th>pts_ot2_away</th>\n",
       "      <th>pts_ot3_away</th>\n",
       "      <th>pts_ot4_away</th>\n",
       "      <th>pts_ot5_away</th>\n",
       "      <th>pts_ot6_away</th>\n",
       "      <th>pts_ot7_away</th>\n",
       "      <th>pts_ot8_away</th>\n",
       "      <th>pts_ot9_away</th>\n",
       "      <th>pts_ot10_away</th>\n",
       "      <th>pts_away</th>\n",
       "    </tr>\n",
       "  </thead>\n",
       "  <tbody>\n",
       "    <tr>\n",
       "      <th>0</th>\n",
       "      <td>1946-11-01 00:00:00</td>\n",
       "      <td>NaN</td>\n",
       "      <td>24600001</td>\n",
       "      <td>1610610035</td>\n",
       "      <td>HUS</td>\n",
       "      <td>Toronto</td>\n",
       "      <td>Huskies</td>\n",
       "      <td>-</td>\n",
       "      <td>NaN</td>\n",
       "      <td>NaN</td>\n",
       "      <td>...</td>\n",
       "      <td>NaN</td>\n",
       "      <td>NaN</td>\n",
       "      <td>NaN</td>\n",
       "      <td>NaN</td>\n",
       "      <td>NaN</td>\n",
       "      <td>NaN</td>\n",
       "      <td>NaN</td>\n",
       "      <td>NaN</td>\n",
       "      <td>NaN</td>\n",
       "      <td>68</td>\n",
       "    </tr>\n",
       "    <tr>\n",
       "      <th>1</th>\n",
       "      <td>1946-11-02 00:00:00</td>\n",
       "      <td>NaN</td>\n",
       "      <td>24600003</td>\n",
       "      <td>1610610034</td>\n",
       "      <td>BOM</td>\n",
       "      <td>St. Louis</td>\n",
       "      <td>Bombers</td>\n",
       "      <td>-</td>\n",
       "      <td>16.0</td>\n",
       "      <td>16.0</td>\n",
       "      <td>...</td>\n",
       "      <td>NaN</td>\n",
       "      <td>NaN</td>\n",
       "      <td>NaN</td>\n",
       "      <td>NaN</td>\n",
       "      <td>NaN</td>\n",
       "      <td>NaN</td>\n",
       "      <td>NaN</td>\n",
       "      <td>NaN</td>\n",
       "      <td>NaN</td>\n",
       "      <td>51</td>\n",
       "    </tr>\n",
       "    <tr>\n",
       "      <th>2</th>\n",
       "      <td>1946-11-02 00:00:00</td>\n",
       "      <td>NaN</td>\n",
       "      <td>24600002</td>\n",
       "      <td>1610612738</td>\n",
       "      <td>BOS</td>\n",
       "      <td>Boston</td>\n",
       "      <td>Celtics</td>\n",
       "      <td>-</td>\n",
       "      <td>10.0</td>\n",
       "      <td>16.0</td>\n",
       "      <td>...</td>\n",
       "      <td>NaN</td>\n",
       "      <td>NaN</td>\n",
       "      <td>NaN</td>\n",
       "      <td>NaN</td>\n",
       "      <td>NaN</td>\n",
       "      <td>NaN</td>\n",
       "      <td>NaN</td>\n",
       "      <td>NaN</td>\n",
       "      <td>NaN</td>\n",
       "      <td>59</td>\n",
       "    </tr>\n",
       "    <tr>\n",
       "      <th>3</th>\n",
       "      <td>1946-11-02 00:00:00</td>\n",
       "      <td>NaN</td>\n",
       "      <td>24600004</td>\n",
       "      <td>1610610025</td>\n",
       "      <td>CHS</td>\n",
       "      <td>Chicago</td>\n",
       "      <td>Stags</td>\n",
       "      <td>-</td>\n",
       "      <td>NaN</td>\n",
       "      <td>NaN</td>\n",
       "      <td>...</td>\n",
       "      <td>NaN</td>\n",
       "      <td>NaN</td>\n",
       "      <td>NaN</td>\n",
       "      <td>NaN</td>\n",
       "      <td>NaN</td>\n",
       "      <td>NaN</td>\n",
       "      <td>NaN</td>\n",
       "      <td>NaN</td>\n",
       "      <td>NaN</td>\n",
       "      <td>47</td>\n",
       "    </tr>\n",
       "    <tr>\n",
       "      <th>4</th>\n",
       "      <td>1946-11-02 00:00:00</td>\n",
       "      <td>NaN</td>\n",
       "      <td>24600005</td>\n",
       "      <td>1610610036</td>\n",
       "      <td>WAS</td>\n",
       "      <td>Washington</td>\n",
       "      <td>Capitols</td>\n",
       "      <td>-</td>\n",
       "      <td>21.0</td>\n",
       "      <td>4.0</td>\n",
       "      <td>...</td>\n",
       "      <td>NaN</td>\n",
       "      <td>NaN</td>\n",
       "      <td>NaN</td>\n",
       "      <td>NaN</td>\n",
       "      <td>NaN</td>\n",
       "      <td>NaN</td>\n",
       "      <td>NaN</td>\n",
       "      <td>NaN</td>\n",
       "      <td>NaN</td>\n",
       "      <td>33</td>\n",
       "    </tr>\n",
       "  </tbody>\n",
       "</table>\n",
       "<p>5 rows × 43 columns</p>\n",
       "</div>"
      ],
      "text/plain": [
       "         game_date_est  game_sequence   game_id  team_id_home  \\\n",
       "0  1946-11-01 00:00:00            NaN  24600001    1610610035   \n",
       "1  1946-11-02 00:00:00            NaN  24600003    1610610034   \n",
       "2  1946-11-02 00:00:00            NaN  24600002    1610612738   \n",
       "3  1946-11-02 00:00:00            NaN  24600004    1610610025   \n",
       "4  1946-11-02 00:00:00            NaN  24600005    1610610036   \n",
       "\n",
       "  team_abbreviation_home team_city_name_home team_nickname_home  \\\n",
       "0                    HUS             Toronto            Huskies   \n",
       "1                    BOM           St. Louis            Bombers   \n",
       "2                    BOS              Boston            Celtics   \n",
       "3                    CHS             Chicago              Stags   \n",
       "4                    WAS          Washington           Capitols   \n",
       "\n",
       "  team_wins_losses_home  pts_qtr1_home  pts_qtr2_home  ...  pts_ot2_away  \\\n",
       "0                     -            NaN            NaN  ...           NaN   \n",
       "1                     -           16.0           16.0  ...           NaN   \n",
       "2                     -           10.0           16.0  ...           NaN   \n",
       "3                     -            NaN            NaN  ...           NaN   \n",
       "4                     -           21.0            4.0  ...           NaN   \n",
       "\n",
       "   pts_ot3_away  pts_ot4_away  pts_ot5_away  pts_ot6_away  pts_ot7_away  \\\n",
       "0           NaN           NaN           NaN           NaN           NaN   \n",
       "1           NaN           NaN           NaN           NaN           NaN   \n",
       "2           NaN           NaN           NaN           NaN           NaN   \n",
       "3           NaN           NaN           NaN           NaN           NaN   \n",
       "4           NaN           NaN           NaN           NaN           NaN   \n",
       "\n",
       "   pts_ot8_away  pts_ot9_away  pts_ot10_away  pts_away  \n",
       "0           NaN           NaN            NaN        68  \n",
       "1           NaN           NaN            NaN        51  \n",
       "2           NaN           NaN            NaN        59  \n",
       "3           NaN           NaN            NaN        47  \n",
       "4           NaN           NaN            NaN        33  \n",
       "\n",
       "[5 rows x 43 columns]"
      ]
     },
     "execution_count": 5,
     "metadata": {},
     "output_type": "execute_result"
    }
   ],
   "source": [
    "df.head()"
   ]
  },
  {
   "cell_type": "markdown",
   "id": "ff57b041-61ec-474b-bc20-6e9e23c1172a",
   "metadata": {},
   "source": [
    "## Remove all games with OT and OT data"
   ]
  },
  {
   "cell_type": "code",
   "execution_count": 6,
   "id": "80602664-e39c-4fc1-8d1f-8f30d7fff6bf",
   "metadata": {
    "tags": []
   },
   "outputs": [
    {
     "data": {
      "text/plain": [
       "array([18., nan,  7.,  4., 10., 15., 12.,  3., 13.,  6.,  5.,  8., 20.,\n",
       "        9., 11., 14.,  2., 17.,  0.,  1., 16., 19., 21., 22., 24., 23.,\n",
       "       25.])"
      ]
     },
     "execution_count": 6,
     "metadata": {},
     "output_type": "execute_result"
    }
   ],
   "source": [
    "df['pts_ot1_home'].unique()"
   ]
  },
  {
   "cell_type": "code",
   "execution_count": 7,
   "id": "1affe6b3-5f34-4111-a92f-590815dcc11b",
   "metadata": {},
   "outputs": [
    {
     "name": "stdout",
     "output_type": "stream",
     "text": [
      "29428\n",
      "27971\n"
     ]
    }
   ],
   "source": [
    "print(sum(df['pts_ot1_home'].isnull()))\n",
    "print(sum(df['pts_ot1_home'] == 0))"
   ]
  },
  {
   "cell_type": "code",
   "execution_count": 8,
   "id": "7290e60a-c12d-446c-a7fe-d2698580f172",
   "metadata": {},
   "outputs": [],
   "source": [
    "df = df.loc[df['pts_ot1_home'].isin([np.nan, 0])]\n",
    "df.drop(['pts_ot1_home', 'pts_ot2_home',\n",
    "       'pts_ot3_home', 'pts_ot4_home', 'pts_ot5_home', 'pts_ot6_home',\n",
    "       'pts_ot7_home', 'pts_ot8_home', 'pts_ot9_home', 'pts_ot10_home', 'pts_ot1_away', 'pts_ot2_away', 'pts_ot3_away', 'pts_ot4_away',\n",
    "       'pts_ot5_away', 'pts_ot6_away', 'pts_ot7_away', 'pts_ot8_away',\n",
    "       'pts_ot9_away', 'pts_ot10_away'], axis = 1, inplace = True);"
   ]
  },
  {
   "cell_type": "markdown",
   "id": "3222b580-dd86-4532-a73b-eaa2b6424cef",
   "metadata": {},
   "source": [
    "# Normalize Data"
   ]
  },
  {
   "cell_type": "markdown",
   "id": "605d098d-e74c-4343-92ae-08847ef395e4",
   "metadata": {},
   "source": [
    "## 1. PK: Abbreviation"
   ]
  },
  {
   "cell_type": "markdown",
   "id": "5aa9f0da-89e8-4508-8cd4-3f18f8b8ce03",
   "metadata": {},
   "source": [
    "### Eliminate Duplicate City Names"
   ]
  },
  {
   "cell_type": "code",
   "execution_count": 9,
   "id": "f1ba035d-3f93-4bac-9ab3-c5a9f8d8ae2e",
   "metadata": {},
   "outputs": [
    {
     "name": "stdout",
     "output_type": "stream",
     "text": [
      "KCK : ['Kansas City-Omaha' 'Kansas City']\n",
      "LAC : ['Los Angeles' 'LA']\n",
      "NOK : ['New Orleans' 'New Orleans/Oklahoma City']\n"
     ]
    }
   ],
   "source": [
    "checkSomething(df['team_abbreviation_home'], df['team_city_name_home']) "
   ]
  },
  {
   "cell_type": "code",
   "execution_count": 10,
   "id": "07ea650f-2074-4fad-ad96-8764dddc623b",
   "metadata": {},
   "outputs": [
    {
     "data": {
      "text/plain": [
       "array(['Hornets'], dtype=object)"
      ]
     },
     "execution_count": 10,
     "metadata": {},
     "output_type": "execute_result"
    }
   ],
   "source": [
    "df['team_nickname_home'].loc[df['team_abbreviation_home'] == 'NOK'].unique()"
   ]
  },
  {
   "cell_type": "code",
   "execution_count": 11,
   "id": "8354bfc2-e86e-4a5b-ad6f-386a1e82924d",
   "metadata": {
    "tags": []
   },
   "outputs": [],
   "source": [
    "df.replace(['Kansas City-Omaha', 'LA'], ['Kansas City' , 'Los Angeles'], inplace = True)\n",
    "\n",
    "df.loc[df['team_abbreviation_home'] == 'NOK', 'team_city_name_home'] = 'New Orleans/Oklahoma City'\n",
    "df.loc[df['team_abbreviation_away'] == 'NOK', 'team_city_name_away'] = 'New Orleans/Oklahoma City'"
   ]
  },
  {
   "cell_type": "code",
   "execution_count": 12,
   "id": "46c87384-f062-45e4-9906-26db4cc97a4d",
   "metadata": {},
   "outputs": [],
   "source": [
    "checkSomething(df['team_abbreviation_home'], df['team_city_name_home'])\n",
    "checkSomething(df['team_abbreviation_away'], df['team_city_name_away'])"
   ]
  },
  {
   "cell_type": "markdown",
   "id": "93eb4766-3b30-43a8-98dd-27739d26c6c7",
   "metadata": {},
   "source": [
    "### Eliminate Duplicate IDs"
   ]
  },
  {
   "cell_type": "code",
   "execution_count": 13,
   "id": "0d6c4ae7-4568-4db8-b439-fbf2f52caec3",
   "metadata": {},
   "outputs": [
    {
     "name": "stdout",
     "output_type": "stream",
     "text": [
      "WAS : [1610610036 1610612764]\n"
     ]
    }
   ],
   "source": [
    "checkSomething(df['team_abbreviation_home'], df['team_id_home'])"
   ]
  },
  {
   "cell_type": "code",
   "execution_count": 14,
   "id": "4fb06287-e307-4496-8fa4-b0c811b0f3f8",
   "metadata": {},
   "outputs": [
    {
     "name": "stdout",
     "output_type": "stream",
     "text": [
      "['WAS']\n",
      "['CHP' 'CHZ' 'BLT' 'CAP' 'WAS']\n"
     ]
    }
   ],
   "source": [
    "print(df['team_abbreviation_home'].loc[df['team_id_home'] == 1610610036].unique())\n",
    "print(df['team_abbreviation_home'].loc[df['team_id_home'] == 1610612764].unique())"
   ]
  },
  {
   "cell_type": "code",
   "execution_count": 15,
   "id": "cf62d271-1bfd-479e-8140-106e0a550243",
   "metadata": {},
   "outputs": [],
   "source": [
    "df.loc[df['team_abbreviation_home'] == 'WAS', 'team_id_home'] = 1610610036\n",
    "df.loc[df['team_abbreviation_away'] == 'WAS', 'team_id_away'] = 1610610036"
   ]
  },
  {
   "cell_type": "code",
   "execution_count": 16,
   "id": "0e58c44b-3316-4f6e-a89e-12af104c503f",
   "metadata": {},
   "outputs": [],
   "source": [
    "checkSomething(df['team_abbreviation_home'], df['team_id_home'])\n",
    "checkSomething(df['team_abbreviation_away'], df['team_id_away'])"
   ]
  },
  {
   "cell_type": "code",
   "execution_count": 17,
   "id": "fc5cbc72-af1a-4e1c-9a2c-f358b65c7870",
   "metadata": {},
   "outputs": [],
   "source": [
    "checkSomething(df['team_abbreviation_home'], df['team_city_name_home'])\n",
    "checkSomething(df['team_abbreviation_away'], df['team_city_name_away'])"
   ]
  },
  {
   "cell_type": "markdown",
   "id": "5e361be7-624b-4ee0-aaaa-d8b245ba5b2b",
   "metadata": {},
   "source": [
    "### Create Table"
   ]
  },
  {
   "cell_type": "code",
   "execution_count": 18,
   "id": "82fc3b1d-bc0c-4d17-bf2b-f44e5cc84b77",
   "metadata": {},
   "outputs": [
    {
     "data": {
      "text/html": [
       "<div>\n",
       "<style scoped>\n",
       "    .dataframe tbody tr th:only-of-type {\n",
       "        vertical-align: middle;\n",
       "    }\n",
       "\n",
       "    .dataframe tbody tr th {\n",
       "        vertical-align: top;\n",
       "    }\n",
       "\n",
       "    .dataframe thead th {\n",
       "        text-align: right;\n",
       "    }\n",
       "</style>\n",
       "<table border=\"1\" class=\"dataframe\">\n",
       "  <thead>\n",
       "    <tr style=\"text-align: right;\">\n",
       "      <th></th>\n",
       "      <th>Abbreviation</th>\n",
       "      <th>City Name</th>\n",
       "      <th>ID</th>\n",
       "    </tr>\n",
       "  </thead>\n",
       "  <tbody>\n",
       "    <tr>\n",
       "      <th>1</th>\n",
       "      <td>BOM</td>\n",
       "      <td>St. Louis</td>\n",
       "      <td>1610610034</td>\n",
       "    </tr>\n",
       "    <tr>\n",
       "      <th>2</th>\n",
       "      <td>BOS</td>\n",
       "      <td>Boston</td>\n",
       "      <td>1610612738</td>\n",
       "    </tr>\n",
       "    <tr>\n",
       "      <th>3</th>\n",
       "      <td>CHS</td>\n",
       "      <td>Chicago</td>\n",
       "      <td>1610610025</td>\n",
       "    </tr>\n",
       "    <tr>\n",
       "      <th>4</th>\n",
       "      <td>WAS</td>\n",
       "      <td>Washington</td>\n",
       "      <td>1610610036</td>\n",
       "    </tr>\n",
       "    <tr>\n",
       "      <th>5</th>\n",
       "      <td>HUS</td>\n",
       "      <td>Toronto</td>\n",
       "      <td>1610610035</td>\n",
       "    </tr>\n",
       "  </tbody>\n",
       "</table>\n",
       "</div>"
      ],
      "text/plain": [
       "  Abbreviation   City Name          ID\n",
       "1          BOM   St. Louis  1610610034\n",
       "2          BOS      Boston  1610612738\n",
       "3          CHS     Chicago  1610610025\n",
       "4          WAS  Washington  1610610036\n",
       "5          HUS     Toronto  1610610035"
      ]
     },
     "execution_count": 18,
     "metadata": {},
     "output_type": "execute_result"
    }
   ],
   "source": [
    "dfTeamInfo = df[['team_abbreviation_home', 'team_city_name_home', 'team_id_home']]\n",
    "dfTeamInfo = dfTeamInfo.rename(columns = {'team_abbreviation_home': 'Abbreviation', 'team_city_name_home': 'City Name', 'team_id_home': 'ID'})\n",
    "dfTeamInfo.head()"
   ]
  },
  {
   "cell_type": "code",
   "execution_count": 19,
   "id": "e74eb638-6f21-4c9a-9e1c-d53a188eb674",
   "metadata": {},
   "outputs": [
    {
     "data": {
      "text/html": [
       "<div>\n",
       "<style scoped>\n",
       "    .dataframe tbody tr th:only-of-type {\n",
       "        vertical-align: middle;\n",
       "    }\n",
       "\n",
       "    .dataframe tbody tr th {\n",
       "        vertical-align: top;\n",
       "    }\n",
       "\n",
       "    .dataframe thead th {\n",
       "        text-align: right;\n",
       "    }\n",
       "</style>\n",
       "<table border=\"1\" class=\"dataframe\">\n",
       "  <thead>\n",
       "    <tr style=\"text-align: right;\">\n",
       "      <th></th>\n",
       "      <th>Abbreviation</th>\n",
       "      <th>City Name</th>\n",
       "      <th>ID</th>\n",
       "    </tr>\n",
       "  </thead>\n",
       "  <tbody>\n",
       "    <tr>\n",
       "      <th>0</th>\n",
       "      <td>BOM</td>\n",
       "      <td>St. Louis</td>\n",
       "      <td>1610610034</td>\n",
       "    </tr>\n",
       "    <tr>\n",
       "      <th>1</th>\n",
       "      <td>BOS</td>\n",
       "      <td>Boston</td>\n",
       "      <td>1610612738</td>\n",
       "    </tr>\n",
       "    <tr>\n",
       "      <th>2</th>\n",
       "      <td>CHS</td>\n",
       "      <td>Chicago</td>\n",
       "      <td>1610610025</td>\n",
       "    </tr>\n",
       "    <tr>\n",
       "      <th>3</th>\n",
       "      <td>WAS</td>\n",
       "      <td>Washington</td>\n",
       "      <td>1610610036</td>\n",
       "    </tr>\n",
       "    <tr>\n",
       "      <th>4</th>\n",
       "      <td>HUS</td>\n",
       "      <td>Toronto</td>\n",
       "      <td>1610610035</td>\n",
       "    </tr>\n",
       "    <tr>\n",
       "      <th>...</th>\n",
       "      <td>...</td>\n",
       "      <td>...</td>\n",
       "      <td>...</td>\n",
       "    </tr>\n",
       "    <tr>\n",
       "      <th>70</th>\n",
       "      <td>NOK</td>\n",
       "      <td>New Orleans/Oklahoma City</td>\n",
       "      <td>1610612740</td>\n",
       "    </tr>\n",
       "    <tr>\n",
       "      <th>71</th>\n",
       "      <td>PHO</td>\n",
       "      <td>Phoenix</td>\n",
       "      <td>1610612756</td>\n",
       "    </tr>\n",
       "    <tr>\n",
       "      <th>72</th>\n",
       "      <td>OKC</td>\n",
       "      <td>Oklahoma City</td>\n",
       "      <td>1610612760</td>\n",
       "    </tr>\n",
       "    <tr>\n",
       "      <th>73</th>\n",
       "      <td>BKN</td>\n",
       "      <td>Brooklyn</td>\n",
       "      <td>1610612751</td>\n",
       "    </tr>\n",
       "    <tr>\n",
       "      <th>74</th>\n",
       "      <td>NOP</td>\n",
       "      <td>New Orleans</td>\n",
       "      <td>1610612740</td>\n",
       "    </tr>\n",
       "  </tbody>\n",
       "</table>\n",
       "<p>75 rows × 3 columns</p>\n",
       "</div>"
      ],
      "text/plain": [
       "   Abbreviation                  City Name          ID\n",
       "0           BOM                  St. Louis  1610610034\n",
       "1           BOS                     Boston  1610612738\n",
       "2           CHS                    Chicago  1610610025\n",
       "3           WAS                 Washington  1610610036\n",
       "4           HUS                    Toronto  1610610035\n",
       "..          ...                        ...         ...\n",
       "70          NOK  New Orleans/Oklahoma City  1610612740\n",
       "71          PHO                    Phoenix  1610612756\n",
       "72          OKC              Oklahoma City  1610612760\n",
       "73          BKN                   Brooklyn  1610612751\n",
       "74          NOP                New Orleans  1610612740\n",
       "\n",
       "[75 rows x 3 columns]"
      ]
     },
     "execution_count": 19,
     "metadata": {},
     "output_type": "execute_result"
    }
   ],
   "source": [
    "dfTeamInfo = dfTeamInfo.drop_duplicates(subset='Abbreviation', keep=\"first\").reset_index(drop = True)\n",
    "df.drop(['team_id_home', 'team_city_name_home', 'team_nickname_home', 'team_id_away', 'team_city_name_away', 'team_nickname_away'],\n",
    "        axis = 1, inplace = True)\n",
    "dfTeamInfo"
   ]
  },
  {
   "cell_type": "markdown",
   "id": "8f980e36-1430-43d1-812a-9e5e747d7f00",
   "metadata": {},
   "source": [
    "## 2. PK: Game ID"
   ]
  },
  {
   "cell_type": "code",
   "execution_count": 20,
   "id": "82358630-b6a3-43c6-b436-63a410b5b0d2",
   "metadata": {},
   "outputs": [
    {
     "data": {
      "text/plain": [
       "0"
      ]
     },
     "execution_count": 20,
     "metadata": {},
     "output_type": "execute_result"
    }
   ],
   "source": [
    "df['game_id'].duplicated().sum()"
   ]
  },
  {
   "cell_type": "code",
   "execution_count": 21,
   "id": "f03024a5-2ad0-407d-a6c5-60ed682aaa5d",
   "metadata": {},
   "outputs": [
    {
     "data": {
      "text/plain": [
       "Index(['game_date_est', 'game_sequence', 'game_id', 'team_abbreviation_home',\n",
       "       'team_wins_losses_home', 'pts_qtr1_home', 'pts_qtr2_home',\n",
       "       'pts_qtr3_home', 'pts_qtr4_home', 'pts_home', 'team_abbreviation_away',\n",
       "       'team_wins_losses_away', 'pts_qtr1_away', 'pts_qtr2_away',\n",
       "       'pts_qtr3_away', 'pts_qtr4_away', 'pts_away'],\n",
       "      dtype='object')"
      ]
     },
     "execution_count": 21,
     "metadata": {},
     "output_type": "execute_result"
    }
   ],
   "source": [
    "df.columns"
   ]
  },
  {
   "cell_type": "code",
   "execution_count": 22,
   "id": "40ec80f8-d8ed-4ead-a759-5c3f15c99b01",
   "metadata": {},
   "outputs": [],
   "source": [
    "dfGameInfo = df[['game_id', 'game_date_est', 'game_sequence']]\n",
    "pd.to_datetime(dfGameInfo['game_date_est']).dt.date\n",
    "\n",
    "df.drop(['game_date_est','game_sequence'], axis = 1, inplace = True)"
   ]
  },
  {
   "cell_type": "markdown",
   "id": "362d5c05-3118-458c-b825-b13dc3ef8a64",
   "metadata": {},
   "source": [
    "### 3. PK: GameID, Home Abbreviation"
   ]
  },
  {
   "cell_type": "code",
   "execution_count": 23,
   "id": "14ab1664-ca87-42b5-8e92-840711dd6f61",
   "metadata": {},
   "outputs": [],
   "source": [
    "subsetHome = ['game_id',\n",
    "          'team_abbreviation_home',\n",
    "          'team_wins_losses_home',\n",
    "          'pts_qtr1_home',\n",
    "          'pts_qtr2_home',\n",
    "          'pts_qtr3_home',\n",
    "          'pts_qtr4_home',\n",
    "          'pts_home']\n",
    "\n",
    "dfHomeGames = df[subsetHome]\n",
    "\n",
    "df.drop(['team_wins_losses_home',\n",
    "          'pts_qtr1_home',\n",
    "          'pts_qtr2_home',\n",
    "          'pts_qtr3_home',\n",
    "          'pts_qtr4_home',\n",
    "          'pts_home'],\n",
    "        axis = 1, inplace = True)"
   ]
  },
  {
   "cell_type": "markdown",
   "id": "3ed36f40-3602-471d-a804-3d5ea2904d8f",
   "metadata": {},
   "source": [
    "### 4. PK: GameID, Away Abbreviation"
   ]
  },
  {
   "cell_type": "code",
   "execution_count": 24,
   "id": "e9fc8b2a-c117-44e8-8d38-46ef378c29e2",
   "metadata": {},
   "outputs": [],
   "source": [
    "subsetAway = ['game_id',\n",
    "          'team_abbreviation_away',\n",
    "          'team_wins_losses_away',\n",
    "          'pts_qtr1_away',\n",
    "          'pts_qtr2_away',\n",
    "          'pts_qtr3_away',\n",
    "          'pts_qtr4_away',\n",
    "          'pts_away']\n",
    "\n",
    "dfAwayGames = df[subsetAway]\n",
    "\n",
    "df.drop(['team_wins_losses_away',\n",
    "          'pts_qtr1_away',\n",
    "          'pts_qtr2_away',\n",
    "          'pts_qtr3_away',\n",
    "          'pts_qtr4_away',\n",
    "          'pts_away'],\n",
    "        axis = 1, inplace = True)"
   ]
  },
  {
   "cell_type": "code",
   "execution_count": 25,
   "id": "958e596d-9f95-44fd-bd1a-223bc6e636b7",
   "metadata": {},
   "outputs": [
    {
     "name": "stdout",
     "output_type": "stream",
     "text": [
      "Team Information\n",
      "  Abbreviation   City Name          ID\n",
      "0          BOM   St. Louis  1610610034\n",
      "1          BOS      Boston  1610612738\n",
      "2          CHS     Chicago  1610610025\n",
      "3          WAS  Washington  1610610036\n",
      "4          HUS     Toronto  1610610035\n",
      "\n",
      "Game MetaData\n",
      "    game_id        game_date_est  game_sequence\n",
      "1  24600003  1946-11-02 00:00:00            NaN\n",
      "2  24600002  1946-11-02 00:00:00            NaN\n",
      "3  24600004  1946-11-02 00:00:00            NaN\n",
      "4  24600005  1946-11-02 00:00:00            NaN\n",
      "5  24600006  1946-11-03 00:00:00            NaN\n",
      "\n",
      "Home Team Game Data\n",
      "    game_id team_abbreviation_home team_wins_losses_home  pts_qtr1_home  pts_qtr2_home  pts_qtr3_home  pts_qtr4_home  pts_home\n",
      "1  24600003                    BOM                     -           16.0           16.0           18.0            6.0        56\n",
      "2  24600002                    BOS                     -           10.0           16.0           14.0           13.0        53\n",
      "3  24600004                    CHS                     -            NaN            NaN            NaN            NaN        63\n",
      "4  24600005                    WAS                     -           21.0            4.0           12.0           13.0        50\n",
      "5  24600006                    HUS                     -            NaN            NaN            NaN            NaN        60\n",
      "\n",
      "Away Team Game Data\n",
      "    game_id team_abbreviation_away team_wins_losses_away  pts_qtr1_away  pts_qtr2_away  pts_qtr3_away  pts_qtr4_away  pts_away\n",
      "1  24600003                    PIT                     -            5.0           15.0           17.0           14.0        51\n",
      "2  24600002                    PRO                     -            NaN           12.0           18.0           15.0        59\n",
      "3  24600004                    NYK                     -            NaN            NaN            NaN            NaN        47\n",
      "4  24600005                    DEF                     -            9.0           10.0           10.0            4.0        33\n",
      "5  24600006                    CLR                     -            NaN            NaN            NaN            NaN        71\n"
     ]
    }
   ],
   "source": [
    "pd.set_option('expand_frame_repr', False)\n",
    "\n",
    "print('Team Information')\n",
    "print(dfTeamInfo.head())\n",
    "print()\n",
    "print('Game MetaData')\n",
    "print(dfGameInfo.head())\n",
    "print()\n",
    "print('Home Team Game Data')\n",
    "print(dfHomeGames.head())\n",
    "print()\n",
    "print('Away Team Game Data')\n",
    "print(dfAwayGames.head())"
   ]
  }
 ],
 "metadata": {
  "kernelspec": {
   "display_name": "Python 3",
   "language": "python",
   "name": "python3"
  },
  "language_info": {
   "codemirror_mode": {
    "name": "ipython",
    "version": 3
   },
   "file_extension": ".py",
   "mimetype": "text/x-python",
   "name": "python",
   "nbconvert_exporter": "python",
   "pygments_lexer": "ipython3",
   "version": "3.9.4"
  }
 },
 "nbformat": 4,
 "nbformat_minor": 5
}
